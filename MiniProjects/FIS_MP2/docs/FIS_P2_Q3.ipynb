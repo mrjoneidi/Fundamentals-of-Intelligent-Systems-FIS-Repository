{
  "nbformat": 4,
  "nbformat_minor": 0,
  "metadata": {
    "colab": {
      "provenance": []
    },
    "kernelspec": {
      "name": "python3",
      "display_name": "Python 3"
    },
    "language_info": {
      "name": "python"
    }
  },
  "cells": [
    {
      "cell_type": "code",
      "execution_count": 1,
      "metadata": {
        "colab": {
          "base_uri": "https://localhost:8080/"
        },
        "id": "Dlh-uKPf4j2u",
        "outputId": "04515b25-0f7d-4853-e64e-0b884143f612"
      },
      "outputs": [
        {
          "output_type": "stream",
          "name": "stdout",
          "text": [
            "Requirement already satisfied: gdown in /usr/local/lib/python3.10/dist-packages (5.2.0)\n",
            "Requirement already satisfied: beautifulsoup4 in /usr/local/lib/python3.10/dist-packages (from gdown) (4.12.3)\n",
            "Requirement already satisfied: filelock in /usr/local/lib/python3.10/dist-packages (from gdown) (3.16.1)\n",
            "Requirement already satisfied: requests[socks] in /usr/local/lib/python3.10/dist-packages (from gdown) (2.32.3)\n",
            "Requirement already satisfied: tqdm in /usr/local/lib/python3.10/dist-packages (from gdown) (4.67.1)\n",
            "Requirement already satisfied: soupsieve>1.2 in /usr/local/lib/python3.10/dist-packages (from beautifulsoup4->gdown) (2.6)\n",
            "Requirement already satisfied: charset-normalizer<4,>=2 in /usr/local/lib/python3.10/dist-packages (from requests[socks]->gdown) (3.4.0)\n",
            "Requirement already satisfied: idna<4,>=2.5 in /usr/local/lib/python3.10/dist-packages (from requests[socks]->gdown) (3.10)\n",
            "Requirement already satisfied: urllib3<3,>=1.21.1 in /usr/local/lib/python3.10/dist-packages (from requests[socks]->gdown) (2.2.3)\n",
            "Requirement already satisfied: certifi>=2017.4.17 in /usr/local/lib/python3.10/dist-packages (from requests[socks]->gdown) (2024.12.14)\n",
            "Requirement already satisfied: PySocks!=1.5.7,>=1.5.6 in /usr/local/lib/python3.10/dist-packages (from requests[socks]->gdown) (1.7.1)\n",
            "Downloading...\n",
            "From: https://drive.google.com/uc?id=1QTi7dJtNAfFR5mG0rd8K3ZGvEIfSn_DS\n",
            "To: /content/PersianData.zip\n",
            "100% 7.46k/7.46k [00:00<00:00, 18.3MB/s]\n",
            "Archive:  PersianData.zip\n",
            "  inflating: 1.jpg                   \n",
            "  inflating: 2.jpg                   \n",
            "  inflating: 3.jpg                   \n",
            "  inflating: 4.jpg                   \n",
            "  inflating: 5.jpg                   \n"
          ]
        }
      ],
      "source": [
        "!pip install --upgrade --no-cache-dir gdown\n",
        "!gdown 1QTi7dJtNAfFR5mG0rd8K3ZGvEIfSn_DS\n",
        "!unzip PersianData.zip"
      ]
    },
    {
      "cell_type": "code",
      "source": [
        "from PIL import Image, ImageDraw\n",
        "\n",
        "def convertImageToBinary(path):\n",
        "    image = Image.open(path)\n",
        "    draw = ImageDraw.Draw(image)\n",
        "    width, height = image.size\n",
        "    pix = image.load()\n",
        "    factor = 1000\n",
        "    binary_representation = []\n",
        "\n",
        "    for i in range(width):\n",
        "        for j in range(height):\n",
        "            red, green, blue = pix[i, j]\n",
        "            total_intensity = red + green + blue\n",
        "\n",
        "            if total_intensity > (((255 + factor) // 2) * 3):\n",
        "                red, green, blue = 255, 255, 255\n",
        "                binary_representation.append(-1)\n",
        "            else:\n",
        "                red, green, blue = 0, 0, 0\n",
        "                binary_representation.append(1)\n",
        "\n",
        "            draw.point((i, j), (red, green, blue))\n",
        "\n",
        "    del draw\n",
        "    return binary_representation"
      ],
      "metadata": {
        "id": "7L0y_zK9411s"
      },
      "execution_count": 35,
      "outputs": []
    },
    {
      "cell_type": "code",
      "source": [
        "from PIL import Image, ImageDraw\n",
        "import random\n",
        "\n",
        "def generateNoisyImages():\n",
        "    image_paths = [\n",
        "        \"/content/1.jpg\",\n",
        "        \"/content/2.jpg\",\n",
        "        \"/content/3.jpg\",\n",
        "        \"/content/4.jpg\",\n",
        "        \"/content/5.jpg\"\n",
        "    ]\n",
        "\n",
        "    for i, image_path in enumerate(image_paths, start=1):\n",
        "        noisy_image_path = f\"/content/noisy{i}.jpg\"\n",
        "        getNoisyBinaryImage(image_path, noisy_image_path)\n",
        "        print(f\"Noisy image for {image_path} generated and saved as {noisy_image_path}\")\n",
        "\n",
        "def getNoisyBinaryImage(input_path, output_path):\n",
        "    image = Image.open(input_path)\n",
        "    draw = ImageDraw.Draw(image)\n",
        "    width, height = image.size\n",
        "    pix = image.load()\n",
        "    noise_factor = 1000\n",
        "\n",
        "    for i in range(width):\n",
        "        for j in range(height):\n",
        "            rand = random.randint(-noise_factor, noise_factor)\n",
        "            red = pix[i, j][0] + rand\n",
        "            green = pix[i, j][1] + rand\n",
        "            blue = pix[i, j][2] + rand\n",
        "\n",
        "            if red < 0: red = 0\n",
        "            if green < 0: green = 0\n",
        "            if blue < 0: blue = 0\n",
        "            if red > 255: red = 255\n",
        "            if green > 255: green = 255\n",
        "            if blue > 255: blue = 255\n",
        "\n",
        "            draw.point((i, j), (red, green, blue))\n",
        "\n",
        "    image.save(output_path, \"JPEG\")\n",
        "    del draw\n",
        "\n",
        "generateNoisyImages()"
      ],
      "metadata": {
        "colab": {
          "base_uri": "https://localhost:8080/"
        },
        "id": "w9_LAWHj5CGF",
        "outputId": "77bd1fb2-4ee4-4370-a3f5-e934ef5a4f51"
      },
      "execution_count": 36,
      "outputs": [
        {
          "output_type": "stream",
          "name": "stdout",
          "text": [
            "Noisy image for /content/1.jpg generated and saved as /content/noisy1.jpg\n",
            "Noisy image for /content/2.jpg generated and saved as /content/noisy2.jpg\n",
            "Noisy image for /content/3.jpg generated and saved as /content/noisy3.jpg\n",
            "Noisy image for /content/4.jpg generated and saved as /content/noisy4.jpg\n",
            "Noisy image for /content/5.jpg generated and saved as /content/noisy5.jpg\n"
          ]
        }
      ]
    },
    {
      "cell_type": "code",
      "source": [
        "from google.colab import files\n",
        "\n",
        "for i in range(1, 6):  # For noisy1.jpg to noisy5.jpg\n",
        "    files.download(f'/content/noisy{i}.jpg')"
      ],
      "metadata": {
        "colab": {
          "base_uri": "https://localhost:8080/",
          "height": 17
        },
        "id": "7ekFEBkw5InZ",
        "outputId": "87ecd372-be3e-48d9-c746-2e51e12f8714"
      },
      "execution_count": 21,
      "outputs": [
        {
          "output_type": "display_data",
          "data": {
            "text/plain": [
              "<IPython.core.display.Javascript object>"
            ],
            "application/javascript": [
              "\n",
              "    async function download(id, filename, size) {\n",
              "      if (!google.colab.kernel.accessAllowed) {\n",
              "        return;\n",
              "      }\n",
              "      const div = document.createElement('div');\n",
              "      const label = document.createElement('label');\n",
              "      label.textContent = `Downloading \"${filename}\": `;\n",
              "      div.appendChild(label);\n",
              "      const progress = document.createElement('progress');\n",
              "      progress.max = size;\n",
              "      div.appendChild(progress);\n",
              "      document.body.appendChild(div);\n",
              "\n",
              "      const buffers = [];\n",
              "      let downloaded = 0;\n",
              "\n",
              "      const channel = await google.colab.kernel.comms.open(id);\n",
              "      // Send a message to notify the kernel that we're ready.\n",
              "      channel.send({})\n",
              "\n",
              "      for await (const message of channel.messages) {\n",
              "        // Send a message to notify the kernel that we're ready.\n",
              "        channel.send({})\n",
              "        if (message.buffers) {\n",
              "          for (const buffer of message.buffers) {\n",
              "            buffers.push(buffer);\n",
              "            downloaded += buffer.byteLength;\n",
              "            progress.value = downloaded;\n",
              "          }\n",
              "        }\n",
              "      }\n",
              "      const blob = new Blob(buffers, {type: 'application/binary'});\n",
              "      const a = document.createElement('a');\n",
              "      a.href = window.URL.createObjectURL(blob);\n",
              "      a.download = filename;\n",
              "      div.appendChild(a);\n",
              "      a.click();\n",
              "      div.remove();\n",
              "    }\n",
              "  "
            ]
          },
          "metadata": {}
        },
        {
          "output_type": "display_data",
          "data": {
            "text/plain": [
              "<IPython.core.display.Javascript object>"
            ],
            "application/javascript": [
              "download(\"download_99374d76-1e10-449c-b924-28de98408317\", \"noisy1.jpg\", 6917)"
            ]
          },
          "metadata": {}
        },
        {
          "output_type": "display_data",
          "data": {
            "text/plain": [
              "<IPython.core.display.Javascript object>"
            ],
            "application/javascript": [
              "\n",
              "    async function download(id, filename, size) {\n",
              "      if (!google.colab.kernel.accessAllowed) {\n",
              "        return;\n",
              "      }\n",
              "      const div = document.createElement('div');\n",
              "      const label = document.createElement('label');\n",
              "      label.textContent = `Downloading \"${filename}\": `;\n",
              "      div.appendChild(label);\n",
              "      const progress = document.createElement('progress');\n",
              "      progress.max = size;\n",
              "      div.appendChild(progress);\n",
              "      document.body.appendChild(div);\n",
              "\n",
              "      const buffers = [];\n",
              "      let downloaded = 0;\n",
              "\n",
              "      const channel = await google.colab.kernel.comms.open(id);\n",
              "      // Send a message to notify the kernel that we're ready.\n",
              "      channel.send({})\n",
              "\n",
              "      for await (const message of channel.messages) {\n",
              "        // Send a message to notify the kernel that we're ready.\n",
              "        channel.send({})\n",
              "        if (message.buffers) {\n",
              "          for (const buffer of message.buffers) {\n",
              "            buffers.push(buffer);\n",
              "            downloaded += buffer.byteLength;\n",
              "            progress.value = downloaded;\n",
              "          }\n",
              "        }\n",
              "      }\n",
              "      const blob = new Blob(buffers, {type: 'application/binary'});\n",
              "      const a = document.createElement('a');\n",
              "      a.href = window.URL.createObjectURL(blob);\n",
              "      a.download = filename;\n",
              "      div.appendChild(a);\n",
              "      a.click();\n",
              "      div.remove();\n",
              "    }\n",
              "  "
            ]
          },
          "metadata": {}
        },
        {
          "output_type": "display_data",
          "data": {
            "text/plain": [
              "<IPython.core.display.Javascript object>"
            ],
            "application/javascript": [
              "download(\"download_fc58b187-eabe-40e2-8e2f-b572d478be31\", \"noisy2.jpg\", 6943)"
            ]
          },
          "metadata": {}
        },
        {
          "output_type": "display_data",
          "data": {
            "text/plain": [
              "<IPython.core.display.Javascript object>"
            ],
            "application/javascript": [
              "\n",
              "    async function download(id, filename, size) {\n",
              "      if (!google.colab.kernel.accessAllowed) {\n",
              "        return;\n",
              "      }\n",
              "      const div = document.createElement('div');\n",
              "      const label = document.createElement('label');\n",
              "      label.textContent = `Downloading \"${filename}\": `;\n",
              "      div.appendChild(label);\n",
              "      const progress = document.createElement('progress');\n",
              "      progress.max = size;\n",
              "      div.appendChild(progress);\n",
              "      document.body.appendChild(div);\n",
              "\n",
              "      const buffers = [];\n",
              "      let downloaded = 0;\n",
              "\n",
              "      const channel = await google.colab.kernel.comms.open(id);\n",
              "      // Send a message to notify the kernel that we're ready.\n",
              "      channel.send({})\n",
              "\n",
              "      for await (const message of channel.messages) {\n",
              "        // Send a message to notify the kernel that we're ready.\n",
              "        channel.send({})\n",
              "        if (message.buffers) {\n",
              "          for (const buffer of message.buffers) {\n",
              "            buffers.push(buffer);\n",
              "            downloaded += buffer.byteLength;\n",
              "            progress.value = downloaded;\n",
              "          }\n",
              "        }\n",
              "      }\n",
              "      const blob = new Blob(buffers, {type: 'application/binary'});\n",
              "      const a = document.createElement('a');\n",
              "      a.href = window.URL.createObjectURL(blob);\n",
              "      a.download = filename;\n",
              "      div.appendChild(a);\n",
              "      a.click();\n",
              "      div.remove();\n",
              "    }\n",
              "  "
            ]
          },
          "metadata": {}
        },
        {
          "output_type": "display_data",
          "data": {
            "text/plain": [
              "<IPython.core.display.Javascript object>"
            ],
            "application/javascript": [
              "download(\"download_f46a24ec-9fcd-4520-9fc8-77c53ffecb5e\", \"noisy3.jpg\", 6916)"
            ]
          },
          "metadata": {}
        },
        {
          "output_type": "display_data",
          "data": {
            "text/plain": [
              "<IPython.core.display.Javascript object>"
            ],
            "application/javascript": [
              "\n",
              "    async function download(id, filename, size) {\n",
              "      if (!google.colab.kernel.accessAllowed) {\n",
              "        return;\n",
              "      }\n",
              "      const div = document.createElement('div');\n",
              "      const label = document.createElement('label');\n",
              "      label.textContent = `Downloading \"${filename}\": `;\n",
              "      div.appendChild(label);\n",
              "      const progress = document.createElement('progress');\n",
              "      progress.max = size;\n",
              "      div.appendChild(progress);\n",
              "      document.body.appendChild(div);\n",
              "\n",
              "      const buffers = [];\n",
              "      let downloaded = 0;\n",
              "\n",
              "      const channel = await google.colab.kernel.comms.open(id);\n",
              "      // Send a message to notify the kernel that we're ready.\n",
              "      channel.send({})\n",
              "\n",
              "      for await (const message of channel.messages) {\n",
              "        // Send a message to notify the kernel that we're ready.\n",
              "        channel.send({})\n",
              "        if (message.buffers) {\n",
              "          for (const buffer of message.buffers) {\n",
              "            buffers.push(buffer);\n",
              "            downloaded += buffer.byteLength;\n",
              "            progress.value = downloaded;\n",
              "          }\n",
              "        }\n",
              "      }\n",
              "      const blob = new Blob(buffers, {type: 'application/binary'});\n",
              "      const a = document.createElement('a');\n",
              "      a.href = window.URL.createObjectURL(blob);\n",
              "      a.download = filename;\n",
              "      div.appendChild(a);\n",
              "      a.click();\n",
              "      div.remove();\n",
              "    }\n",
              "  "
            ]
          },
          "metadata": {}
        },
        {
          "output_type": "display_data",
          "data": {
            "text/plain": [
              "<IPython.core.display.Javascript object>"
            ],
            "application/javascript": [
              "download(\"download_82a61195-8bda-4109-b549-da6d525c08e7\", \"noisy4.jpg\", 6916)"
            ]
          },
          "metadata": {}
        },
        {
          "output_type": "display_data",
          "data": {
            "text/plain": [
              "<IPython.core.display.Javascript object>"
            ],
            "application/javascript": [
              "\n",
              "    async function download(id, filename, size) {\n",
              "      if (!google.colab.kernel.accessAllowed) {\n",
              "        return;\n",
              "      }\n",
              "      const div = document.createElement('div');\n",
              "      const label = document.createElement('label');\n",
              "      label.textContent = `Downloading \"${filename}\": `;\n",
              "      div.appendChild(label);\n",
              "      const progress = document.createElement('progress');\n",
              "      progress.max = size;\n",
              "      div.appendChild(progress);\n",
              "      document.body.appendChild(div);\n",
              "\n",
              "      const buffers = [];\n",
              "      let downloaded = 0;\n",
              "\n",
              "      const channel = await google.colab.kernel.comms.open(id);\n",
              "      // Send a message to notify the kernel that we're ready.\n",
              "      channel.send({})\n",
              "\n",
              "      for await (const message of channel.messages) {\n",
              "        // Send a message to notify the kernel that we're ready.\n",
              "        channel.send({})\n",
              "        if (message.buffers) {\n",
              "          for (const buffer of message.buffers) {\n",
              "            buffers.push(buffer);\n",
              "            downloaded += buffer.byteLength;\n",
              "            progress.value = downloaded;\n",
              "          }\n",
              "        }\n",
              "      }\n",
              "      const blob = new Blob(buffers, {type: 'application/binary'});\n",
              "      const a = document.createElement('a');\n",
              "      a.href = window.URL.createObjectURL(blob);\n",
              "      a.download = filename;\n",
              "      div.appendChild(a);\n",
              "      a.click();\n",
              "      div.remove();\n",
              "    }\n",
              "  "
            ]
          },
          "metadata": {}
        },
        {
          "output_type": "display_data",
          "data": {
            "text/plain": [
              "<IPython.core.display.Javascript object>"
            ],
            "application/javascript": [
              "download(\"download_733b68fe-0e20-4952-98e6-bac762850758\", \"noisy5.jpg\", 6904)"
            ]
          },
          "metadata": {}
        }
      ]
    },
    {
      "cell_type": "code",
      "source": [
        "from PIL import Image, ImageDraw\n",
        "\n",
        "def convertImageToBinary(path):\n",
        "    image = Image.open(path)\n",
        "    draw = ImageDraw.Draw(image)\n",
        "    width, height = image.size\n",
        "    pix = image.load()\n",
        "    factor = 1000\n",
        "    binary_representation = []\n",
        "\n",
        "    for i in range(width):\n",
        "        for j in range(height):\n",
        "            red, green, blue = pix[i, j]\n",
        "            total_intensity = red + green + blue\n",
        "\n",
        "            if total_intensity > (((255 + factor) // 2) * 3):\n",
        "                red, green, blue = 255, 255, 255\n",
        "                binary_representation.append(-1)\n",
        "            else:\n",
        "                red, green, blue = 0, 0, 0\n",
        "                binary_representation.append(1)\n",
        "\n",
        "            draw.point((i, j), (red, green, blue))\n",
        "\n",
        "    del draw\n",
        "    return binary_representation"
      ],
      "metadata": {
        "id": "kEabWgST5MsZ"
      },
      "execution_count": 37,
      "outputs": []
    },
    {
      "cell_type": "code",
      "source": [
        "from PIL import Image, ImageDraw\n",
        "import random\n",
        "\n",
        "def generateNoisyImages():\n",
        "    image_paths = [\n",
        "        \"/content/1.jpg\",\n",
        "        \"/content/2.jpg\",\n",
        "        \"/content/3.jpg\",\n",
        "        \"/content/4.jpg\",\n",
        "        \"/content/5.jpg\"\n",
        "    ]\n",
        "\n",
        "    for i, image_path in enumerate(image_paths, start=1):\n",
        "        noisy_image_path = f\"/content/noisy{i}.jpg\"\n",
        "        getNoisyBinaryImage(image_path, noisy_image_path)\n",
        "        print(f\"Noisy image for {image_path} generated and saved as {noisy_image_path}\")\n",
        "\n",
        "def getNoisyBinaryImage(input_path, output_path):\n",
        "    image = Image.open(input_path)\n",
        "    draw = ImageDraw.Draw(image)\n",
        "    width, height = image.size\n",
        "    pix = image.load()\n",
        "    noise_factor = 1000\n",
        "\n",
        "    for i in range(width):\n",
        "        for j in range(height):\n",
        "            rand = random.randint(-noise_factor, noise_factor)\n",
        "            red = pix[i, j][0] + rand\n",
        "            green = pix[i, j][1] + rand\n",
        "            blue = pix[i, j][2] + rand\n",
        "\n",
        "            if red < 0: red = 0\n",
        "            if green < 0: green = 0\n",
        "            if blue < 0: blue = 0\n",
        "            if red > 255: red = 255\n",
        "            if green > 255: green = 255\n",
        "            if blue > 255: blue = 255\n",
        "\n",
        "            draw.point((i, j), (red, green, blue))\n",
        "\n",
        "    image.save(output_path, \"JPEG\")\n",
        "    del draw\n",
        "\n",
        "generateNoisyImages()"
      ],
      "metadata": {
        "colab": {
          "base_uri": "https://localhost:8080/"
        },
        "id": "wCo8Iq_c5RYS",
        "outputId": "4841fe55-372b-4f71-be24-1da5d4215a39"
      },
      "execution_count": 38,
      "outputs": [
        {
          "output_type": "stream",
          "name": "stdout",
          "text": [
            "Noisy image for /content/1.jpg generated and saved as /content/noisy1.jpg\n",
            "Noisy image for /content/2.jpg generated and saved as /content/noisy2.jpg\n",
            "Noisy image for /content/3.jpg generated and saved as /content/noisy3.jpg\n",
            "Noisy image for /content/4.jpg generated and saved as /content/noisy4.jpg\n",
            "Noisy image for /content/5.jpg generated and saved as /content/noisy5.jpg\n"
          ]
        }
      ]
    },
    {
      "cell_type": "code",
      "source": [
        "from PIL import Image\n",
        "import numpy as np\n",
        "\n",
        "def convertImageToBinary(path):\n",
        "    image = Image.open(path).convert('RGB')\n",
        "    pixels = np.array(image)\n",
        "    total_intensity = np.sum(pixels, axis=2)\n",
        "    threshold = ((255 + 100) // 2) * 3\n",
        "    binary_representation = np.where(total_intensity > threshold, -1, 1)\n",
        "    return binary_representation.flatten().tolist()"
      ],
      "metadata": {
        "id": "urSehu2c5bRo"
      },
      "execution_count": 39,
      "outputs": []
    },
    {
      "cell_type": "code",
      "source": [
        "from PIL import Image\n",
        "import numpy as np\n",
        "import random\n",
        "\n",
        "def generateNoisyImages():\n",
        "    image_paths = [\n",
        "        \"/content/1.jpg\",\n",
        "        \"/content/2.jpg\",\n",
        "        \"/content/3.jpg\",\n",
        "        \"/content/4.jpg\",\n",
        "        \"/content/5.jpg\"\n",
        "    ]\n",
        "\n",
        "    for i, image_path in enumerate(image_paths, start=1):\n",
        "        noisy_image_path = f\"/content/noisy{i}.jpg\"\n",
        "        getNoisyBinaryImage(image_path, noisy_image_path)\n",
        "        print(f\"Noisy image for {image_path} generated and saved as {noisy_image_path}\")\n",
        "\n",
        "def getNoisyBinaryImage(input_path, output_path):\n",
        "    image = Image.open(input_path).convert('RGB')\n",
        "    pixels = np.array(image)\n",
        "    noise_factor = 1000\n",
        "    noise = np.random.randint(-noise_factor, noise_factor + 1, pixels.shape).astype(np.int32)\n",
        "    noisy_pixels = np.clip(pixels + noise, 0, 255).astype(np.uint8)\n",
        "    noisy_image = Image.fromarray(noisy_pixels)\n",
        "    noisy_image.save(output_path, \"JPEG\")\n",
        "\n",
        "generateNoisyImages()"
      ],
      "metadata": {
        "colab": {
          "base_uri": "https://localhost:8080/"
        },
        "id": "qdQa456r5hTN",
        "outputId": "253ef18a-9aa0-40b7-899b-09ce97c574f4"
      },
      "execution_count": 40,
      "outputs": [
        {
          "output_type": "stream",
          "name": "stdout",
          "text": [
            "Noisy image for /content/1.jpg generated and saved as /content/noisy1.jpg\n",
            "Noisy image for /content/2.jpg generated and saved as /content/noisy2.jpg\n",
            "Noisy image for /content/3.jpg generated and saved as /content/noisy3.jpg\n",
            "Noisy image for /content/4.jpg generated and saved as /content/noisy4.jpg\n",
            "Noisy image for /content/5.jpg generated and saved as /content/noisy5.jpg\n"
          ]
        }
      ]
    },
    {
      "cell_type": "code",
      "source": [
        "import numpy as np\n",
        "import matplotlib.pyplot as plt\n",
        "from PIL import Image\n",
        "\n",
        "def hamming_distance(image1, image2):\n",
        "    \"\"\"Calculate the Hamming distance between two binary images.\"\"\"\n",
        "    return np.sum(image1 != image2)\n",
        "\n",
        "def hamming_neural_network(noisy_image, original_images):\n",
        "    \"\"\"Predict the original image from a noisy image using Hamming distance.\"\"\"\n",
        "    min_distance = float('inf')\n",
        "    predicted_image = None\n",
        "\n",
        "    for original in original_images:\n",
        "        distance = hamming_distance(noisy_image.flatten(), original.flatten())  # Flatten for comparison\n",
        "        if distance < min_distance:\n",
        "            min_distance = distance\n",
        "            predicted_image = original\n",
        "\n",
        "    return predicted_image\n",
        "\n",
        "def plot_images(noisy_image, predicted_image):\n",
        "    \"\"\"Plot the noisy and predicted images side by side.\"\"\"\n",
        "    plt.figure(figsize=(12, 6))\n",
        "    plt.subplot(1, 2, 1)\n",
        "    plt.title(\"Noisy Image\")\n",
        "    plt.imshow(noisy_image)\n",
        "    plt.axis('off')\n",
        "\n",
        "    plt.subplot(1, 2, 2)\n",
        "    plt.title(\"Predicted Image\")\n",
        "    plt.imshow(predicted_image)\n",
        "    plt.axis('off')\n",
        "\n",
        "    plt.show()\n",
        "\n",
        "# Step 1: Set paths for original images and generated noisy images\n",
        "original_image_paths = [\n",
        "    \"/content/1.jpg\",\n",
        "    \"/content/2.jpg\",\n",
        "    \"/content/3.jpg\",\n",
        "    \"/content/4.jpg\",\n",
        "    \"/content/5.jpg\"\n",
        "]\n",
        "\n",
        "# Assuming noisy images have been saved as follows\n",
        "noisy_image_paths = [\n",
        "    \"/content/noisy1.jpg\",\n",
        "    \"/content/noisy2.jpg\",\n",
        "    \"/content/noisy3.jpg\",\n",
        "    \"/content/noisy4.jpg\",\n",
        "    \"/content/noisy5.jpg\"\n",
        "]\n",
        "\n",
        "# Load original images for prediction\n",
        "original_images = [np.array(Image.open(path).convert('RGB')) for path in original_image_paths]\n",
        "\n",
        "# Load noisy images for testing\n",
        "noisy_images = [np.array(Image.open(path).convert('RGB')) for path in noisy_image_paths]\n",
        "\n",
        "# Step 2: Use the first noisy image for prediction\n",
        "noisy_image = noisy_images[0]\n",
        "predicted_image = hamming_neural_network(noisy_image, original_images)\n",
        "\n",
        "# Step 3: Plot the noisy image and its predicted original image\n",
        "plot_images(noisy_image, predicted_image)"
      ],
      "metadata": {
        "colab": {
          "base_uri": "https://localhost:8080/",
          "height": 482
        },
        "id": "--JNTiTq5oYo",
        "outputId": "61dde804-bce6-47fe-c956-72de9aaa3f2d"
      },
      "execution_count": 41,
      "outputs": [
        {
          "output_type": "display_data",
          "data": {
            "text/plain": [
              "<Figure size 1200x600 with 2 Axes>"
            ],
            "image/png": "[encoded data removed]"
          },
          "metadata": {}
        }
      ]
    },
    {
      "cell_type": "markdown",
      "source": [
        "## Hopf"
      ],
      "metadata": {
        "id": "BLXJdL3U6x_h"
      }
    },
    {
      "cell_type": "code",
      "source": [
        "import numpy as np\n",
        "import matplotlib.pyplot as plt\n",
        "from PIL import Image\n",
        "\n",
        "# Class implementation for the Hopfield Network\n",
        "class HopfieldNetwork:\n",
        "    def __init__(self, n_units):\n",
        "        self.weights = np.zeros((n_units, n_units))\n",
        "\n",
        "    def train(self, patterns):\n",
        "        \"\"\"Train the Hopfield network with binary patterns.\"\"\"\n",
        "        for pattern in patterns:\n",
        "            # Make sure the pattern is bipolar: -1 for 0, +1 for 1\n",
        "            bipolar_pattern = np.where(pattern == 0, -1, 1)\n",
        "            self.weights += np.outer(bipolar_pattern, bipolar_pattern)\n",
        "        # Set the diagonal to zero to avoid self-connections\n",
        "        np.fill_diagonal(self.weights, 0)\n",
        "\n",
        "    def predict(self, input_pattern, max_iterations=5):\n",
        "        \"\"\"Predict the output based on an input pattern.\"\"\"\n",
        "        current_pattern = np.where(input_pattern == 0, -1, 1)  # Convert to bipolar\n",
        "        for _ in range(max_iterations):\n",
        "            for i in range(len(current_pattern)):\n",
        "                # Calculate the net input\n",
        "                net_input = np.dot(self.weights[i], current_pattern)\n",
        "                # Update the state based on the net input\n",
        "                current_pattern[i] = 1 if net_input > 0 else 0\n",
        "        return np.where(current_pattern == -1, 0, 1)  # Convert back to binary\n",
        "\n",
        "def load_and_binarize_images(image_paths, size=(20, 20)):\n",
        "    \"\"\"Load and binarize images to a specified size.\"\"\"\n",
        "    images = []\n",
        "    for path in image_paths:\n",
        "        img = Image.open(path).convert('L').resize(size)  # Convert to grayscale and resize\n",
        "        img_array = np.array(img)\n",
        "        # Binarize the image: 0 for Dark, 1 for Light\n",
        "        binarized_image = np.where(img_array > 128, 1, 0)  # Threshold at 128\n",
        "        images.append(binarized_image.flatten())  # Flatten for the Hopfield network\n",
        "    return images\n",
        "\n",
        "def add_noise(image, noise_level=0.1):\n",
        "    \"\"\"Add noise to a binary image.\"\"\"\n",
        "    noisy_image = image.copy()\n",
        "    num_flips = int(noise_level * noisy_image.size)  # Total pixels to flip\n",
        "    indices = np.random.choice(np.arange(noisy_image.size), num_flips, replace=False)\n",
        "    noisy_image.ravel()[indices] = 1 - noisy_image.ravel()[indices]  # Flip 0 to 1 and 1 to 0\n",
        "    return noisy_image\n",
        "\n",
        "def plot_images(original_image, noisy_image, reconstructed_image):\n",
        "    \"\"\"Plot the original, noisy, and reconstructed images side by side.\"\"\"\n",
        "    plt.figure(figsize=(15, 5))\n",
        "    plt.subplot(1, 3, 1)\n",
        "    plt.title(\"Original Image\")\n",
        "    plt.imshow(original_image.reshape(20, 20), cmap='gray')\n",
        "    plt.axis('off')\n",
        "\n",
        "    plt.subplot(1, 3, 2)\n",
        "    plt.title(\"Noisy Image\")\n",
        "    plt.imshow(noisy_image.reshape(20, 20), cmap='gray')\n",
        "    plt.axis('off')\n",
        "\n",
        "    plt.subplot(1, 3, 3)\n",
        "    plt.title(\"Reconstructed Image\")\n",
        "    plt.imshow(reconstructed_image.reshape(20, 20), cmap='gray')\n",
        "    plt.axis('off')\n",
        "\n",
        "    plt.show()\n",
        "\n",
        "# Set paths for original images (modify as needed)\n",
        "original_image_paths = [\n",
        "    \"/content/1.jpg\",\n",
        "    \"/content/2.jpg\",\n",
        "    \"/content/3.jpg\",\n",
        "    \"/content/4.jpg\",\n",
        "    \"/content/5.jpg\"\n",
        "]\n",
        "\n",
        "# Load and binarize original images\n",
        "original_patterns = load_and_binarize_images(original_image_paths)\n",
        "\n",
        "# Train the Hopfield network with original patterns\n",
        "hopfield_network = HopfieldNetwork(n_units=len(original_patterns[0]))\n",
        "hopfield_network.train(original_patterns)\n",
        "\n",
        "# Create a noisy version of one of the original images\n",
        "noisy_image = add_noise(original_patterns[0], noise_level=0.2)  # Change noise level as needed\n",
        "\n",
        "# Predict/reconstruct the image from the noisy input\n",
        "reconstructed_image = hopfield_network.predict(noisy_image)\n",
        "\n",
        "# Plot images\n",
        "plot_images(original_patterns[0], noisy_image, reconstructed_image)"
      ],
      "metadata": {
        "colab": {
          "base_uri": "https://localhost:8080/",
          "height": 378
        },
        "id": "oTA5SAPu5rV9",
        "outputId": "54350e30-e673-4b32-8901-f0fcf8c180bb"
      },
      "execution_count": 33,
      "outputs": [
        {
          "output_type": "display_data",
          "data": {
            "text/plain": [
              "<Figure size 1500x500 with 3 Axes>"
            ],
            "image/png": "[encoded data removed]"
          },
          "metadata": {}
        }
      ]
    },
    {
      "cell_type": "code",
      "source": [
        "from PIL import Image, ImageDraw\n",
        "import random\n",
        "import matplotlib.pyplot as plt\n",
        "\n",
        "def generateImagesWithMissingPoints():\n",
        "    # List of image file paths\n",
        "    image_paths = [\n",
        "        \"/content/1.jpg\",\n",
        "        \"/content/2.jpg\",\n",
        "        \"/content/3.jpg\",\n",
        "        \"/content/4.jpg\",\n",
        "        \"/content/5.jpg\"\n",
        "    ]\n",
        "\n",
        "    for i, image_path in enumerate(image_paths, start=1):\n",
        "        output_path = f\"/content/missing_points{i}.jpg\"\n",
        "        createImageWithMissingPoints(image_path, output_path)\n",
        "        print(f\"Image with missing points for {image_path} generated and saved as {output_path}\")\n",
        "\n",
        "    # Plot one of the images with missing points\n",
        "    plotImageWithMissingPoints(image_paths[0], f\"/content/missing_points1.jpg\")\n",
        "\n",
        "def createImageWithMissingPoints(input_path, output_path):\n",
        "    \"\"\"\n",
        "    Create an image with random missing points and save it as a new file.\n",
        "\n",
        "    Args:\n",
        "        input_path (str): The file path to the input image.\n",
        "        output_path (str): The file path to save the modified image.\n",
        "    \"\"\"\n",
        "    # Open the input image\n",
        "    image = Image.open(input_path)\n",
        "\n",
        "    # Create a drawing tool for manipulating the image\n",
        "    draw = ImageDraw.Draw(image)\n",
        "\n",
        "    # Determine the image's width and height in pixels\n",
        "    width, height = image.size\n",
        "\n",
        "    # Define the number of points to remove (as a percentage of total pixels)\n",
        "    missing_points_count = int(0.99 * width * height)  # Remove 5% of pixels\n",
        "\n",
        "    for _ in range(missing_points_count):\n",
        "        # Randomly select a pixel to remove\n",
        "        x = random.randint(0, width - 1)\n",
        "        y = random.randint(0, height - 1)\n",
        "\n",
        "        # Set the pixel to white (255, 255, 255)\n",
        "        draw.point((x, y), (255, 255, 255))\n",
        "\n",
        "    # Save the modified image as a file\n",
        "    image.save(output_path, \"JPEG\")\n",
        "\n",
        "    # Clean up the drawing tool\n",
        "    del draw\n",
        "\n",
        "def plotImageWithMissingPoints(original_path, modified_path):\n",
        "    \"\"\"\n",
        "    Plot the original and modified images side by side for comparison.\n",
        "\n",
        "    Args:\n",
        "        original_path (str): The file path to the original image.\n",
        "        modified_path (str): The file path to the modified image.\n",
        "    \"\"\"\n",
        "    original_image = Image.open(original_path)\n",
        "    modified_image = Image.open(modified_path)\n",
        "\n",
        "    # Plot the images\n",
        "    plt.figure(figsize=(10, 5))\n",
        "\n",
        "    plt.subplot(1, 2, 1)\n",
        "    plt.title(\"Original Image\")\n",
        "    plt.imshow(original_image)\n",
        "    plt.axis(\"off\")\n",
        "\n",
        "    plt.subplot(1, 2, 2)\n",
        "    plt.title(\"Image with Missing Points\")\n",
        "    plt.imshow(modified_image)\n",
        "    plt.axis(\"off\")\n",
        "\n",
        "    plt.show()\n",
        "\n",
        "# Generate images with missing points and plot one of them\n",
        "generateImagesWithMissingPoints()\n"
      ],
      "metadata": {
        "colab": {
          "base_uri": "https://localhost:8080/",
          "height": 498
        },
        "id": "8soR9scI6Zd-",
        "outputId": "d237ada9-bc7a-42da-b26a-4b65d4e9a874"
      },
      "execution_count": 34,
      "outputs": [
        {
          "output_type": "stream",
          "name": "stdout",
          "text": [
            "Image with missing points for /content/1.jpg generated and saved as /content/missing_points1.jpg\n",
            "Image with missing points for /content/2.jpg generated and saved as /content/missing_points2.jpg\n",
            "Image with missing points for /content/3.jpg generated and saved as /content/missing_points3.jpg\n",
            "Image with missing points for /content/4.jpg generated and saved as /content/missing_points4.jpg\n",
            "Image with missing points for /content/5.jpg generated and saved as /content/missing_points5.jpg\n"
          ]
        },
        {
          "output_type": "display_data",
          "data": {
            "text/plain": [
              "<Figure size 1000x500 with 2 Axes>"
            ],
            "image/png": "[encoded data removed]"
          },
          "metadata": {}
        }
      ]
    },
    {
      "cell_type": "code",
      "source": [],
      "metadata": {
        "id": "tzx0c7_x6b0W"
      },
      "execution_count": null,
      "outputs": []
    }
  ]
}